{
 "cells": [
  {
   "cell_type": "markdown",
   "metadata": {},
   "source": [
    "## Advanced Lane Finding Project\n",
    "\n",
    "The goals / steps of this project are the following:\n",
    "\n",
    "* Compute the camera calibration matrix and distortion coefficients given a set of chessboard images.\n",
    "* Apply a distortion correction to raw images.\n",
    "* Use color transforms, gradients, etc., to create a thresholded binary image.\n",
    "* Apply a perspective transform to rectify binary image (\"birds-eye view\").\n",
    "* Detect lane pixels and fit to find the lane boundary.\n",
    "* Determine the curvature of the lane and vehicle position with respect to center.\n",
    "* Warp the detected lane boundaries back onto the original image.\n",
    "* Output visual display of the lane boundaries and numerical estimation of lane curvature and vehicle position.\n",
    "\n",
    "---\n",
    "## Compute the camera calibration using chessboard images"
   ]
  },
  {
   "cell_type": "code",
   "execution_count": null,
   "metadata": {},
   "outputs": [],
   "source": [
    "import numpy as np\n",
    "import importlib\n",
    "import glob\n",
    "import cv2\n",
    "%matplotlib qt\n",
    "import matplotlib.image as mpimg\n",
    "import sys\n",
    "import os\n",
    "sys.path.append('sources')\n",
    "import calibration as cb;\n",
    "# Make a list of calibration images\n",
    "input_path = \"camera_cal/\"\n",
    "images = glob.glob(input_path + 'calibration*.jpg')\n",
    "chess_calibration_points = cb.Chess_calibration_points(images, [9,6])\n"
   ]
  },
  {
   "cell_type": "markdown",
   "metadata": {},
   "source": [
    "## Apply the undisturtion to chess images"
   ]
  },
  {
   "cell_type": "code",
   "execution_count": null,
   "metadata": {
    "scrolled": true
   },
   "outputs": [],
   "source": [
    "#apply disturtion coefficients to the chess images\n",
    "out_path = \"output_images/calibration/\";\n",
    "for filename in os.listdir(input_path):\n",
    "    image = mpimg.imread(  os.path.join( input_path, filename ))    \n",
    "    undist = chess_calibration_points.undist_image(image);\n",
    "    rgbImg = cv2.cvtColor(undist, cv2.COLOR_BGR2RGB)  \n",
    "    cv2.imwrite(os.path.join(out_path , filename), rgbImg, [cv2.IMWRITE_JPEG_QUALITY, 100])\n",
    "    \n",
    "input_path  = './test_images/'\n",
    "out_path = \"output_images/undist/\";\n",
    "for filename in os.listdir(input_path):\n",
    "    image = mpimg.imread(  os.path.join( input_path, filename ))    \n",
    "    undist = chess_calibration_points.undist_image(image);\n",
    "    rgbImg = cv2.cvtColor(undist, cv2.COLOR_BGR2RGB)   \n",
    "    cv2.imwrite(os.path.join(out_path , filename), rgbImg, [cv2.IMWRITE_JPEG_QUALITY, 100])"
   ]
  },
  {
   "cell_type": "markdown",
   "metadata": {},
   "source": [
    "## Apply calibration to the road images and provide the binary images"
   ]
  },
  {
   "cell_type": "code",
   "execution_count": null,
   "metadata": {},
   "outputs": [],
   "source": [
    "import binary_outputs as bo\n",
    "import numpy as np\n",
    "import cv2\n",
    "import matplotlib.pyplot as plt\n",
    "import image_processing as im\n",
    "\n",
    "input_path  = './test_images/'\n",
    "#apply disturtion coefficients to the chess images\n",
    "out_path = \"output_images/binaries/\";\n",
    "for filename in os.listdir(input_path):\n",
    "    image = mpimg.imread(  os.path.join( input_path, filename ))    \n",
    "    undist = chess_calibration_points.undist_image(image);\n",
    "    binary = im.get_binary(undist)\n",
    "    cv2.imwrite(os.path.join(out_path , filename), bo.to_binary_image(binary), [cv2.IMWRITE_JPEG_QUALITY, 100])\n"
   ]
  },
  {
   "cell_type": "markdown",
   "metadata": {},
   "source": [
    "## Apply a perspective transform to rectify binary image (\"birds-eye view\")."
   ]
  },
  {
   "cell_type": "code",
   "execution_count": null,
   "metadata": {},
   "outputs": [],
   "source": [
    "import sys\n",
    "import os\n",
    "sys.path.append('sources')\n",
    "import transformation as tr\n",
    "import matplotlib.pyplot as plt\n",
    "%matplotlib inline\n",
    "\n",
    "\n",
    "def get_model_polygon (img):\n",
    "    img_size = [img.shape[1], img.shape[0]]\n",
    "    src = np.float32(\n",
    "     [[(img_size[0] * 11/ 24), img_size[1] * 5/8],\n",
    "     [((img_size[0] / 8) ), img_size[1]],\n",
    "     [(img_size[0] *  11 / 12) , img_size[1]],\n",
    "     [(img_size[0] * 13/ 24 ), img_size[1] * 5 / 8]])\n",
    "    dst = np.float32(\n",
    "     [[(img_size[0] / 6-50), 0],\n",
    "     [(img_size[0] / 6-50), img_size[1]],\n",
    "     [(img_size[0] * 5 / 6 -50), img_size[1]],\n",
    "     [(img_size[0] * 5 / 6-50), 0]])\n",
    "    return src, dst\n",
    "\n",
    "input_path  = './test_images/'\n",
    "out_path = \"output_images/bird_eye/\";\n",
    "warper = [];\n",
    "for filename in os.listdir(input_path):\n",
    "    image = mpimg.imread(  os.path.join( input_path, filename ))    \n",
    "    undist = chess_calibration_points.undist_image(image);\n",
    "    if not warper:\n",
    "        src, dst = im.get_model_polygon(image)\n",
    "        warper = tr.ImageWarper( src, dst);\n",
    "    rgbImg = cv2.cvtColor(undist, cv2.COLOR_BGR2RGB)            \n",
    "    wrap_img = warper.warp_image(rgbImg);        \n",
    "    cv2.polylines(wrap_img, [dst.astype(int)], True, (0,255,0), 2)\n",
    "    cv2.imwrite(os.path.join(out_path , filename), wrap_img, [cv2.IMWRITE_JPEG_QUALITY, 100])    \n",
    "    \n"
   ]
  },
  {
   "cell_type": "markdown",
   "metadata": {},
   "source": [
    "## Apply the same transformation for the binary images"
   ]
  },
  {
   "cell_type": "code",
   "execution_count": null,
   "metadata": {},
   "outputs": [],
   "source": [
    "out_path = \"output_images/bird_eye_binaries\"\n",
    "\n",
    "for filename in os.listdir(input_path):\n",
    "    image = mpimg.imread(  os.path.join( input_path, filename ))    \n",
    "    undist = chess_calibration_points.undist_image(image);\n",
    "    binary = im.get_binary(undist)\n",
    "    wrap_img = warper.warp_image(binary)\n",
    "    cv2.imwrite(os.path.join(out_path , filename), bo.to_binary_image(wrap_img), [cv2.IMWRITE_JPEG_QUALITY, 100])"
   ]
  },
  {
   "cell_type": "markdown",
   "metadata": {},
   "source": [
    "## Detect lane pixels and fit to find the lane boundary."
   ]
  },
  {
   "cell_type": "code",
   "execution_count": null,
   "metadata": {},
   "outputs": [],
   "source": [
    "import lane_detection as ld\n",
    "import matplotlib.pyplot as plt\n",
    "\n",
    "out_path = \"output_images/lane_detection_bird_eye\"\n",
    "\n",
    "for filename in os.listdir(input_path):\n",
    "    image = mpimg.imread(  os.path.join( input_path, filename ))    \n",
    "    undist = chess_calibration_points.undist_image(image);\n",
    "    binary = im.get_binary(undist)\n",
    "    wrap_img = warper.warp_image(binary)\n",
    "    # View your output\n",
    "    lane_detector = ld.LaneDetector()\n",
    "    lane_detector.find_next_poly(wrap_img)\n",
    "    result = lane_detector.draw_the_lines(wrap_img)\n",
    "    cv2.imwrite(os.path.join(out_path , filename), result, [cv2.IMWRITE_JPEG_QUALITY, 100])\n"
   ]
  },
  {
   "cell_type": "markdown",
   "metadata": {},
   "source": [
    "## Provide full lane detection for the all test images"
   ]
  },
  {
   "cell_type": "code",
   "execution_count": null,
   "metadata": {},
   "outputs": [],
   "source": [
    "import lane_detection as ld\n",
    "import matplotlib.pyplot as plt\n",
    "\n",
    "out_path = \"output_images/lane_detection\"\n",
    "\n",
    "for filename in os.listdir(input_path):\n",
    "    image_processor = im.ImageProcessor(chess_calibration_points);\n",
    "    print(filename)\n",
    "    image = mpimg.imread(  os.path.join( input_path, filename ))  \n",
    "    result = image_processor.process(image, True);\n",
    "    rgbImg = cv2.cvtColor(result, cv2.COLOR_BGR2RGB) \n",
    "    cv2.imwrite(os.path.join(out_path , filename), rgbImg, [cv2.IMWRITE_JPEG_QUALITY, 100])"
   ]
  },
  {
   "cell_type": "markdown",
   "metadata": {},
   "source": [
    "## Provide lane detection for the video"
   ]
  },
  {
   "cell_type": "code",
   "execution_count": null,
   "metadata": {
    "scrolled": false
   },
   "outputs": [],
   "source": [
    "# Import everything needed to edit/save/watch video clips\n",
    "from moviepy.editor import VideoFileClip\n",
    "from IPython.display import HTML\n",
    "\n",
    "project_video_output = 'output_videos/project_video.mp4'\n",
    "clip2 = VideoFileClip('project_video.mp4')\n",
    "image_processor = im.ImageProcessor(chess_calibration_points);\n",
    "process_image_lambda = lambda image: image_processor.process(image)\n",
    "project_clip = clip2.fl_image(process_image_lambda)\n",
    "%time project_clip.write_videofile(project_video_output, audio=False)\n",
    "HTML(\"\"\"\n",
    "<video width=\"960\" height=\"540\" controls>\n",
    "  <source src=\"{0}\">\n",
    "</video>\n",
    "\"\"\".format(project_video_output))"
   ]
  },
  {
   "cell_type": "markdown",
   "metadata": {},
   "source": [
    "## Lane detection for the challenged videos"
   ]
  },
  {
   "cell_type": "code",
   "execution_count": null,
   "metadata": {},
   "outputs": [],
   "source": [
    "project_video_output = 'output_videos/challenge_video.mp4'\n",
    "clip2 = VideoFileClip('challenge_video.mp4')\n",
    "image_processor = im.ImageProcessor(chess_calibration_points);\n",
    "process_image_lambda = lambda image: image_processor.process(image) #bo.to_binary_image(get_binary(image)) \n",
    "challenge_video_clip = clip2.fl_image(process_image_lambda)\n",
    "%time challenge_video_clip.write_videofile(project_video_output, audio=False)\n",
    "HTML(\"\"\"\n",
    "<video width=\"960\" height=\"540\" controls>\n",
    "  <source src=\"{0}\">\n",
    "</video>\n",
    "\"\"\".format(project_video_output))"
   ]
  },
  {
   "cell_type": "code",
   "execution_count": null,
   "metadata": {},
   "outputs": [],
   "source": [
    "project_video_output = 'output_videos/harder_challenge_video.mp4'\n",
    "clip2 = VideoFileClip('harder_challenge_video.mp4')\n",
    "image_processor = im.ImageProcessor(chess_calibration_points);\n",
    "process_image_lambda = lambda image: image_processor.process(image) #bo.to_binary_image(get_binary(image)) \n",
    "challenge_video_clip = clip2.fl_image(process_image_lambda)\n",
    "%time challenge_video_clip.write_videofile(project_video_output, audio=False)\n",
    "HTML(\"\"\"\n",
    "<video width=\"960\" height=\"540\" controls>\n",
    "  <source src=\"{0}\">\n",
    "</video>\n",
    "\"\"\".format(project_video_output))"
   ]
  },
  {
   "cell_type": "code",
   "execution_count": null,
   "metadata": {},
   "outputs": [],
   "source": []
  }
 ],
 "metadata": {
  "anaconda-cloud": {},
  "kernelspec": {
   "display_name": "Python 3",
   "language": "python",
   "name": "python3"
  },
  "language_info": {
   "codemirror_mode": {
    "name": "ipython",
    "version": 3
   },
   "file_extension": ".py",
   "mimetype": "text/x-python",
   "name": "python",
   "nbconvert_exporter": "python",
   "pygments_lexer": "ipython3",
   "version": "3.6.3"
  }
 },
 "nbformat": 4,
 "nbformat_minor": 1
}
