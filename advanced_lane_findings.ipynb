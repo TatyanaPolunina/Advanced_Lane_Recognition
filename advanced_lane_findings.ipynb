{
 "cells": [
  {
   "cell_type": "markdown",
   "metadata": {},
   "source": [
    "## Advanced Lane Finding Project\n",
    "\n",
    "The goals / steps of this project are the following:\n",
    "\n",
    "* Compute the camera calibration matrix and distortion coefficients given a set of chessboard images.\n",
    "* Apply a distortion correction to raw images.\n",
    "* Use color transforms, gradients, etc., to create a thresholded binary image.\n",
    "* Apply a perspective transform to rectify binary image (\"birds-eye view\").\n",
    "* Detect lane pixels and fit to find the lane boundary.\n",
    "* Determine the curvature of the lane and vehicle position with respect to center.\n",
    "* Warp the detected lane boundaries back onto the original image.\n",
    "* Output visual display of the lane boundaries and numerical estimation of lane curvature and vehicle position.\n",
    "\n",
    "---\n",
    "## Compute the camera calibration using chessboard images"
   ]
  },
  {
   "cell_type": "code",
   "execution_count": 1,
   "metadata": {},
   "outputs": [],
   "source": [
    "import numpy as np\n",
    "import importlib\n",
    "import glob\n",
    "import cv2\n",
    "%matplotlib qt\n",
    "import matplotlib.image as mpimg\n",
    "import sys\n",
    "import os\n",
    "sys.path.append('sources')\n",
    "import calibration as cb;\n",
    "# Make a list of calibration images\n",
    "input_path = \"camera_cal/\"\n",
    "images = glob.glob(input_path + 'calibration*.jpg')\n",
    "chess_calibration_points = cb.Chess_calibration_points(images, [9,6])\n"
   ]
  },
  {
   "cell_type": "markdown",
   "metadata": {},
   "source": [
    "## Apply the disturtion to chess images"
   ]
  },
  {
   "cell_type": "code",
   "execution_count": 2,
   "metadata": {
    "scrolled": true
   },
   "outputs": [],
   "source": [
    "#apply disturtion coefficients to the chess images\n",
    "out_path = \"output_images/calibration/\";\n",
    "for filename in os.listdir(input_path):\n",
    "    image = mpimg.imread(  os.path.join( input_path, filename ))    \n",
    "    undist = chess_calibration_points.undist_image(image);\n",
    "    cv2.imwrite(os.path.join(out_path , filename), undist, [cv2.IMWRITE_JPEG_QUALITY, 100])"
   ]
  },
  {
   "cell_type": "markdown",
   "metadata": {},
   "source": [
    "## Apply calibration to the road images and provide the binary images"
   ]
  },
  {
   "cell_type": "code",
   "execution_count": 3,
   "metadata": {},
   "outputs": [],
   "source": [
    "import binary_outputs as bo\n",
    "import numpy as np\n",
    "import cv2\n",
    "import matplotlib.pyplot as plt\n",
    "import image_processing as im\n",
    "\n",
    "input_path  = './test_images/'\n",
    "#apply disturtion coefficients to the chess images\n",
    "out_path = \"output_images/binaries/\";\n",
    "for filename in os.listdir(input_path):\n",
    "    image = mpimg.imread(  os.path.join( input_path, filename ))    \n",
    "    undist = chess_calibration_points.undist_image(image);\n",
    "    binary = im.get_binary(undist)\n",
    "    cv2.imwrite(os.path.join(out_path , filename), bo.to_binary_image(binary), [cv2.IMWRITE_JPEG_QUALITY, 100])\n"
   ]
  },
  {
   "cell_type": "markdown",
   "metadata": {},
   "source": [
    "## Apply a perspective transform to rectify binary image (\"birds-eye view\")."
   ]
  },
  {
   "cell_type": "code",
   "execution_count": 4,
   "metadata": {},
   "outputs": [],
   "source": [
    "import sys\n",
    "import os\n",
    "sys.path.append('sources')\n",
    "import transformation as tr\n",
    "import matplotlib.pyplot as plt\n",
    "%matplotlib inline\n",
    "\n",
    "\n",
    "def get_model_polygon (img):\n",
    "    img_size = [img.shape[1], img.shape[0]]\n",
    "    src = np.float32(\n",
    "     [[(img_size[0] * 11/ 24), img_size[1] * 5/8],\n",
    "     [((img_size[0] / 8) ), img_size[1]],\n",
    "     [(img_size[0] *  11 / 12) , img_size[1]],\n",
    "     [(img_size[0] * 13/ 24 ), img_size[1] * 5 / 8]])\n",
    "    dst = np.float32(\n",
    "     [[(img_size[0] / 6-50), 0],\n",
    "     [(img_size[0] / 6-50), img_size[1]],\n",
    "     [(img_size[0] * 5 / 6 -50), img_size[1]],\n",
    "     [(img_size[0] * 5 / 6-50), 0]])\n",
    "    return src, dst\n",
    "\n",
    "input_path  = './test_images/'\n",
    "out_path = \"output_images/bird_eye/\";\n",
    "warper = [];\n",
    "for filename in os.listdir(input_path):\n",
    "    image = mpimg.imread(  os.path.join( input_path, filename ))    \n",
    "    undist = chess_calibration_points.undist_image(image);\n",
    "    if not warper:\n",
    "        src, dst = get_model_polygon(image)\n",
    "        warper = tr.ImageWarper( src, dst);\n",
    "    rgbImg = cv2.cvtColor(undist, cv2.COLOR_BGR2RGB)            \n",
    "    wrap_img = warper.warp_image(rgbImg);        \n",
    "    cv2.polylines(wrap_img, [dst.astype(int)], True, (0,255,0), 2)\n",
    "    cv2.imwrite(os.path.join(out_path , filename), wrap_img, [cv2.IMWRITE_JPEG_QUALITY, 100])    \n",
    "    \n"
   ]
  },
  {
   "cell_type": "markdown",
   "metadata": {},
   "source": [
    "## Apply the same transformation for the binary images"
   ]
  },
  {
   "cell_type": "code",
   "execution_count": 5,
   "metadata": {},
   "outputs": [],
   "source": [
    "out_path = \"output_images/bird_eye_binaries\"\n",
    "\n",
    "for filename in os.listdir(input_path):\n",
    "    image = mpimg.imread(  os.path.join( input_path, filename ))    \n",
    "    undist = chess_calibration_points.undist_image(image);\n",
    "    binary = get_binary(undist)\n",
    "    wrap_img = warper.warp_image(binary)\n",
    "    cv2.imwrite(os.path.join(out_path , filename), bo.to_binary_image(wrap_img), [cv2.IMWRITE_JPEG_QUALITY, 100])"
   ]
  },
  {
   "cell_type": "markdown",
   "metadata": {},
   "source": [
    "## Detect lane pixels and fit to find the lane boundary."
   ]
  },
  {
   "cell_type": "code",
   "execution_count": 6,
   "metadata": {},
   "outputs": [],
   "source": [
    "import lane_detection as ld\n",
    "import matplotlib.pyplot as plt\n",
    "\n",
    "out_path = \"output_images/lane_detection_bird_eye\"\n",
    "\n",
    "for filename in os.listdir(input_path):\n",
    "    image = mpimg.imread(  os.path.join( input_path, filename ))    \n",
    "    undist = chess_calibration_points.undist_image(image);\n",
    "    binary = get_binary(undist)\n",
    "    wrap_img = warper.warp_image(binary)\n",
    "    # View your output\n",
    "    lane_detector = ld.LaneDetector()\n",
    "    lane_detector.find_next_poly(wrap_img)\n",
    "    result = lane_detector.draw_the_lines(wrap_img)\n",
    "    cv2.imwrite(os.path.join(out_path , filename), result, [cv2.IMWRITE_JPEG_QUALITY, 100])\n"
   ]
  },
  {
   "cell_type": "markdown",
   "metadata": {},
   "source": [
    "## Provide full lane detection for the all test images"
   ]
  },
  {
   "cell_type": "code",
   "execution_count": 7,
   "metadata": {},
   "outputs": [
    {
     "name": "stdout",
     "output_type": "stream",
     "text": [
      "test6.jpg\n",
      "Curvature  (9885.845315483477, 5952.7378399521695)\n",
      "Center offset  -0.10312500000000001  meters\n",
      "straight_lines2.jpg\n",
      "Curvature  (5628.5874508696452, 3291.8705395992497)\n",
      "Center offset  -0.24921875000000002  meters\n",
      "test1.jpg\n",
      "Curvature  (3716.08862140163, 451.17333008711148)\n",
      "Center offset  -0.10742187500000001  meters\n",
      "test2.jpg\n",
      "Curvature  (389.94004840731407, 310.18485707542425)\n",
      "Center offset  0.0171875  meters\n",
      "straight_lines1.jpg\n",
      "Curvature  (7789.0980269444108, 1580.0949818703452)\n",
      "Center offset  -0.275  meters\n",
      "test3.jpg\n",
      "Curvature  (487.98428476188928, 543.42047261909431)\n",
      "Center offset  -0.1375  meters\n",
      "test5.jpg\n",
      "Curvature  (654.5643285155345, 332.69874730810972)\n",
      "Center offset  -0.24921875000000002  meters\n",
      "test4.jpg\n",
      "Curvature  (1663.3821351231024, 551.83400606323119)\n",
      "Center offset  -0.038671875  meters\n"
     ]
    }
   ],
   "source": [
    "import lane_detection as ld\n",
    "import matplotlib.pyplot as plt\n",
    "\n",
    "out_path = \"output_images/lane_detection\"\n",
    "\n",
    "for filename in os.listdir(input_path):\n",
    "    image_processor = im.ImageProcessor(chess_calibration_points);\n",
    "    print(filename)\n",
    "    image = mpimg.imread(  os.path.join( input_path, filename ))  \n",
    "    result = image_processor.process(image, True);\n",
    "    rgbImg = cv2.cvtColor(result, cv2.COLOR_BGR2RGB) \n",
    "    cv2.imwrite(os.path.join(out_path , filename), rgbImg, [cv2.IMWRITE_JPEG_QUALITY, 100])"
   ]
  },
  {
   "cell_type": "markdown",
   "metadata": {},
   "source": [
    "## Provide lane detection for the video"
   ]
  },
  {
   "cell_type": "code",
   "execution_count": 8,
   "metadata": {
    "scrolled": false
   },
   "outputs": [
    {
     "name": "stdout",
     "output_type": "stream",
     "text": [
      "[MoviePy] >>>> Building video output_videos/project_video.mp4\n",
      "[MoviePy] Writing video output_videos/project_video.mp4\n"
     ]
    },
    {
     "name": "stderr",
     "output_type": "stream",
     "text": [
      " 99%|█████████▉| 125/126 [00:42<00:00,  2.83it/s]\n"
     ]
    },
    {
     "name": "stdout",
     "output_type": "stream",
     "text": [
      "[MoviePy] Done.\n",
      "[MoviePy] >>>> Video ready: output_videos/project_video.mp4 \n",
      "\n",
      "CPU times: user 24.6 s, sys: 6.69 s, total: 31.3 s\n",
      "Wall time: 45.9 s\n"
     ]
    },
    {
     "data": {
      "text/html": [
       "\n",
       "<video width=\"960\" height=\"540\" controls>\n",
       "  <source src=\"output_videos/project_video.mp4\">\n",
       "</video>\n"
      ],
      "text/plain": [
       "<IPython.core.display.HTML object>"
      ]
     },
     "execution_count": 8,
     "metadata": {},
     "output_type": "execute_result"
    }
   ],
   "source": [
    "# Import everything needed to edit/save/watch video clips\n",
    "from moviepy.editor import VideoFileClip\n",
    "from IPython.display import HTML\n",
    "\n",
    "project_video_output = 'output_videos/project_video.mp4'\n",
    "clip2 = VideoFileClip('project_video.mp4')\n",
    "image_processor = im.ImageProcessor(chess_calibration_points);\n",
    "process_image_lambda = lambda image: image_processor.process(image)\n",
    "project_clip = clip2.fl_image(process_image_lambda)\n",
    "%time project_clip.write_videofile(project_video_output, audio=False)\n",
    "HTML(\"\"\"\n",
    "<video width=\"960\" height=\"540\" controls>\n",
    "  <source src=\"{0}\">\n",
    "</video>\n",
    "\"\"\".format(project_video_output))"
   ]
  },
  {
   "cell_type": "markdown",
   "metadata": {},
   "source": [
    "## Lane detection for the challenged videos"
   ]
  },
  {
   "cell_type": "code",
   "execution_count": 9,
   "metadata": {},
   "outputs": [
    {
     "name": "stdout",
     "output_type": "stream",
     "text": [
      "[MoviePy] >>>> Building video output_videos/challenge_video.mp4\n",
      "[MoviePy] Writing video output_videos/challenge_video.mp4\n"
     ]
    },
    {
     "name": "stderr",
     "output_type": "stream",
     "text": [
      "100%|██████████| 485/485 [02:45<00:00,  2.86it/s]\n"
     ]
    },
    {
     "name": "stdout",
     "output_type": "stream",
     "text": [
      "[MoviePy] Done.\n",
      "[MoviePy] >>>> Video ready: output_videos/challenge_video.mp4 \n",
      "\n",
      "CPU times: user 1min 32s, sys: 26 s, total: 1min 58s\n",
      "Wall time: 2min 48s\n"
     ]
    },
    {
     "data": {
      "text/html": [
       "\n",
       "<video width=\"960\" height=\"540\" controls>\n",
       "  <source src=\"output_videos/challenge_video.mp4\">\n",
       "</video>\n"
      ],
      "text/plain": [
       "<IPython.core.display.HTML object>"
      ]
     },
     "execution_count": 9,
     "metadata": {},
     "output_type": "execute_result"
    }
   ],
   "source": [
    "project_video_output = 'output_videos/challenge_video.mp4'\n",
    "clip2 = VideoFileClip('challenge_video.mp4')\n",
    "image_processor = im.ImageProcessor(chess_calibration_points);\n",
    "process_image_lambda = lambda image: image_processor.process(image) #bo.to_binary_image(get_binary(image)) \n",
    "challenge_video_clip = clip2.fl_image(process_image_lambda)\n",
    "%time challenge_video_clip.write_videofile(project_video_output, audio=False)\n",
    "HTML(\"\"\"\n",
    "<video width=\"960\" height=\"540\" controls>\n",
    "  <source src=\"{0}\">\n",
    "</video>\n",
    "\"\"\".format(project_video_output))"
   ]
  },
  {
   "cell_type": "code",
   "execution_count": 10,
   "metadata": {},
   "outputs": [
    {
     "name": "stdout",
     "output_type": "stream",
     "text": [
      "[MoviePy] >>>> Building video output_videos/harder_challenge_video.mp4\n",
      "[MoviePy] Writing video output_videos/harder_challenge_video.mp4\n"
     ]
    },
    {
     "name": "stderr",
     "output_type": "stream",
     "text": [
      "100%|█████████▉| 1199/1200 [07:41<00:00,  2.73it/s]\n"
     ]
    },
    {
     "name": "stdout",
     "output_type": "stream",
     "text": [
      "[MoviePy] Done.\n",
      "[MoviePy] >>>> Video ready: output_videos/harder_challenge_video.mp4 \n",
      "\n",
      "CPU times: user 4min 12s, sys: 54.6 s, total: 5min 7s\n",
      "Wall time: 7min 45s\n"
     ]
    },
    {
     "data": {
      "text/html": [
       "\n",
       "<video width=\"960\" height=\"540\" controls>\n",
       "  <source src=\"output_videos/harder_challenge_video.mp4\">\n",
       "</video>\n"
      ],
      "text/plain": [
       "<IPython.core.display.HTML object>"
      ]
     },
     "execution_count": 10,
     "metadata": {},
     "output_type": "execute_result"
    }
   ],
   "source": [
    "project_video_output = 'output_videos/harder_challenge_video.mp4'\n",
    "clip2 = VideoFileClip('harder_challenge_video.mp4')\n",
    "image_processor = im.ImageProcessor(chess_calibration_points);\n",
    "process_image_lambda = lambda image: image_processor.process(image) #bo.to_binary_image(get_binary(image)) \n",
    "challenge_video_clip = clip2.fl_image(process_image_lambda)\n",
    "%time challenge_video_clip.write_videofile(project_video_output, audio=False)\n",
    "HTML(\"\"\"\n",
    "<video width=\"960\" height=\"540\" controls>\n",
    "  <source src=\"{0}\">\n",
    "</video>\n",
    "\"\"\".format(project_video_output))"
   ]
  },
  {
   "cell_type": "code",
   "execution_count": null,
   "metadata": {},
   "outputs": [],
   "source": []
  }
 ],
 "metadata": {
  "anaconda-cloud": {},
  "kernelspec": {
   "display_name": "Python 3",
   "language": "python",
   "name": "python3"
  },
  "language_info": {
   "codemirror_mode": {
    "name": "ipython",
    "version": 3
   },
   "file_extension": ".py",
   "mimetype": "text/x-python",
   "name": "python",
   "nbconvert_exporter": "python",
   "pygments_lexer": "ipython3",
   "version": "3.6.3"
  }
 },
 "nbformat": 4,
 "nbformat_minor": 1
}
